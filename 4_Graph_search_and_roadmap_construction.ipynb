{
  "nbformat": 4,
  "nbformat_minor": 0,
  "metadata": {
    "colab": {
      "provenance": [],
      "authorship_tag": "ABX9TyPMM6Q3twosm5MfICZYa2Dj"
    },
    "kernelspec": {
      "name": "python3",
      "display_name": "Python 3"
    },
    "language_info": {
      "name": "python"
    }
  },
  "cells": [
    {
      "cell_type": "code",
      "execution_count": null,
      "metadata": {
        "id": "am75Z__wmtfq",
        "outputId": "2f35725b-726c-4cd8-bfae-2b6efebb9be8",
        "colab": {
          "base_uri": "https://localhost:8080/",
          "height": 716
        }
      },
      "outputs": [
        {
          "output_type": "display_data",
          "data": {
            "text/plain": [
              "<Figure size 800x800 with 1 Axes>"
            ],
            "image/png": "[encoded data removed]"
          },
          "metadata": {}
        },
        {
          "output_type": "stream",
          "name": "stdout",
          "text": [
            "Roadmap constructed with 9600 nodes.\n"
          ]
        }
      ],
      "source": [
        "import numpy as np\n",
        "import matplotlib.pyplot as plt\n",
        "from queue import PriorityQueue\n",
        "\n",
        "# === Environment Setup ===\n",
        "grid_size = (100, 100)  # Grid size (100x100)\n",
        "start = (10, 10)  # Start position (row, col)\n",
        "goal = (90, 90)  # Goal position (row, col)\n",
        "\n",
        "# Create a grid with obstacles (1: obstacle, 0: free space)\n",
        "grid = np.zeros(grid_size)\n",
        "grid[40:60, 40:60] = 1  # Obstacle in the middle\n",
        "\n",
        "# === A* Search Parameters ===\n",
        "# Directions for 8-connected grid (up, down, left, right, diagonals)\n",
        "directions = [(-1, 0), (1, 0), (0, -1), (0, 1), (-1, -1), (-1, 1), (1, -1), (1, 1)]\n",
        "\n",
        "# Heuristic function: Manhattan distance\n",
        "def heuristic(a, b):\n",
        "    return abs(a[0] - b[0]) + abs(a[1] - b[1])\n",
        "\n",
        "# A* Algorithm\n",
        "def astar(grid, start, goal):\n",
        "    rows, cols = grid.shape\n",
        "    open_list = PriorityQueue()\n",
        "    open_list.put((0, start))\n",
        "    came_from = {}\n",
        "    g_score = {start: 0}\n",
        "    f_score = {start: heuristic(start, goal)}\n",
        "\n",
        "    while not open_list.empty():\n",
        "        _, current = open_list.get()\n",
        "\n",
        "        if current == goal:\n",
        "            path = []\n",
        "            while current in came_from:\n",
        "                path.append(current)\n",
        "                current = came_from[current]\n",
        "            path.append(start)\n",
        "            return path[::-1]\n",
        "\n",
        "        for direction in directions:\n",
        "            neighbor = (current[0] + direction[0], current[1] + direction[1])\n",
        "\n",
        "            # Check if the neighbor is within bounds and not an obstacle\n",
        "            if 0 <= neighbor[0] < rows and 0 <= neighbor[1] < cols and grid[neighbor[0], neighbor[1]] == 0:\n",
        "                tentative_g_score = g_score[current] + 1\n",
        "\n",
        "                if neighbor not in g_score or tentative_g_score < g_score[neighbor]:\n",
        "                    came_from[neighbor] = current\n",
        "                    g_score[neighbor] = tentative_g_score\n",
        "                    f_score[neighbor] = tentative_g_score + heuristic(neighbor, goal)\n",
        "                    open_list.put((f_score[neighbor], neighbor))\n",
        "\n",
        "    return None  # No path found\n",
        "\n",
        "# === Roadmap Construction ===\n",
        "def construct_roadmap(grid):\n",
        "    rows, cols = grid.shape\n",
        "    roadmap = {}\n",
        "\n",
        "    for i in range(rows):\n",
        "        for j in range(cols):\n",
        "            if grid[i, j] == 0:  # Free space\n",
        "                neighbors = []\n",
        "                for direction in directions:\n",
        "                    ni, nj = i + direction[0], j + direction[1]\n",
        "                    if 0 <= ni < rows and 0 <= nj < cols and grid[ni, nj] == 0:\n",
        "                        neighbors.append((ni, nj))\n",
        "                roadmap[(i, j)] = neighbors\n",
        "\n",
        "    return roadmap\n",
        "\n",
        "# === Visualization ===\n",
        "def plot_path(grid, path):\n",
        "    fig, ax = plt.subplots(figsize=(8, 8))\n",
        "    ax.imshow(grid, cmap='gray_r', origin='lower')\n",
        "    path_x, path_y = zip(*path)\n",
        "    ax.plot(path_y, path_x, color='blue', linewidth=2, label='A* Path')\n",
        "    ax.scatter(start[1], start[0], color='green', s=100, label='Start')\n",
        "    ax.scatter(goal[1], goal[0], color='red', s=100, label='Goal')\n",
        "    ax.legend()\n",
        "    plt.title(\"A* Path Planning\")\n",
        "    plt.show()\n",
        "\n",
        "# === Run A* Search and Visualize Path ===\n",
        "path = astar(grid, start, goal)\n",
        "if path:\n",
        "    plot_path(grid, path)\n",
        "else:\n",
        "    print(\"No path found!\")\n",
        "\n",
        "# === Roadmap Construction ===\n",
        "roadmap = construct_roadmap(grid)\n",
        "print(\"Roadmap constructed with\", len(roadmap), \"nodes.\")\n"
      ]
    }
  ]
}